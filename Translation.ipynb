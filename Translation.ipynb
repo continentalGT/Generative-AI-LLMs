{
 "cells": [
  {
   "cell_type": "code",
   "execution_count": 14,
   "id": "2b13cc3b",
   "metadata": {},
   "outputs": [],
   "source": [
    "from transformers import logging\n",
    "logging.set_verbosity_error()"
   ]
  },
  {
   "cell_type": "code",
   "execution_count": 15,
   "id": "b11bc055",
   "metadata": {},
   "outputs": [],
   "source": [
    "from transformers import pipeline\n",
    "import torch"
   ]
  },
  {
   "cell_type": "code",
   "execution_count": 16,
   "id": "9f57123c",
   "metadata": {},
   "outputs": [
    {
     "data": {
      "text/plain": [
       "<transformers.pipelines.text2text_generation.TranslationPipeline at 0x224f0a6ae30>"
      ]
     },
     "execution_count": 16,
     "metadata": {},
     "output_type": "execute_result"
    }
   ],
   "source": [
    "translator = pipeline(task='translation' , model='facebook/nllb-200-distilled-600M',torch_dtype=torch.bfloat16)\n",
    "\n",
    "translator"
   ]
  },
  {
   "cell_type": "code",
   "execution_count": 17,
   "id": "0032f8e9",
   "metadata": {},
   "outputs": [
    {
     "data": {
      "text/plain": [
       "' lets do more focus work'"
      ]
     },
     "execution_count": 17,
     "metadata": {},
     "output_type": "execute_result"
    }
   ],
   "source": [
    "#text in english\n",
    "text = ' lets do more focus work'\n",
    "\n",
    "text"
   ]
  },
  {
   "cell_type": "code",
   "execution_count": 18,
   "id": "2102594d",
   "metadata": {},
   "outputs": [],
   "source": [
    "output = translator(text,\n",
    "                   src_lang='eng_latn',\n",
    "                   tgt_lang='hin_Deva')\n",
    "\n"
   ]
  },
  {
   "cell_type": "code",
   "execution_count": 19,
   "id": "3391baf4",
   "metadata": {},
   "outputs": [
    {
     "data": {
      "text/plain": [
       "[{'translation_text': 'lets do more focus work अधिक ध्यान केंद्रित करने का काम करते हैं'}]"
      ]
     },
     "execution_count": 19,
     "metadata": {},
     "output_type": "execute_result"
    }
   ],
   "source": [
    "output\n"
   ]
  },
  {
   "cell_type": "code",
   "execution_count": 20,
   "id": "1253f828",
   "metadata": {},
   "outputs": [],
   "source": [
    "output = translator('my heart will go on was a song from titanic',\n",
    "                   src_lang='eng_latn',\n",
    "                   tgt_lang='hin_Deva')\n",
    "\n"
   ]
  },
  {
   "cell_type": "code",
   "execution_count": 21,
   "id": "e0d0bc26",
   "metadata": {},
   "outputs": [
    {
     "data": {
      "text/plain": [
       "[{'translation_text': 'my heart will go on था एक गीत टाइटैनिक से'}]"
      ]
     },
     "execution_count": 21,
     "metadata": {},
     "output_type": "execute_result"
    }
   ],
   "source": [
    "output"
   ]
  },
  {
   "cell_type": "code",
   "execution_count": 22,
   "id": "d0f3c653",
   "metadata": {},
   "outputs": [
    {
     "name": "stdout",
     "output_type": "stream",
     "text": [
      "[{'translation_text': 'मुझे छात्रों को जिम्मेदारी से सिखाना है'}]\n"
     ]
    }
   ],
   "source": [
    "output = translator('I have to teach students with responsibility',\n",
    "                   src_lang='eng_latn',\n",
    "                   tgt_lang='hin_Deva')\n",
    "\n",
    "print(output)"
   ]
  },
  {
   "cell_type": "code",
   "execution_count": 24,
   "id": "387e8ed7",
   "metadata": {},
   "outputs": [],
   "source": [
    "output = translator('The name is bond, james bond',\n",
    "                   src_lang='eng_latn',\n",
    "                   tgt_lang='hin_Deva')\n",
    "\n"
   ]
  },
  {
   "cell_type": "code",
   "execution_count": 25,
   "id": "7ebce1a6",
   "metadata": {},
   "outputs": [
    {
     "name": "stdout",
     "output_type": "stream",
     "text": [
      "[{'translation_text': 'नाम बंधन है, जेम्स बंधन'}]\n"
     ]
    }
   ],
   "source": [
    "print(output)"
   ]
  },
  {
   "cell_type": "code",
   "execution_count": 27,
   "id": "b13df95f",
   "metadata": {},
   "outputs": [
    {
     "name": "stdout",
     "output_type": "stream",
     "text": [
      "[{'translation_text': 'نام ہیری پوٹر، ہیری پوٹر'}]\n"
     ]
    }
   ],
   "source": [
    "#bond is considered as iteral hindi meaning\n",
    "output = translator('नाम हैरी पॉटर, हैरी पॉटर',\n",
    "                   src_lang='hin_Deva',\n",
    "                   tgt_lang='urd_Arab')\n",
    "\n",
    "print(output)\n"
   ]
  },
  {
   "cell_type": "code",
   "execution_count": 28,
   "id": "e4cf09db",
   "metadata": {},
   "outputs": [
    {
     "name": "stdout",
     "output_type": "stream",
     "text": [
      "[{'translation_text': 'नाम हैरी पॉटर, हैरी पॉटर'}]\n"
     ]
    }
   ],
   "source": [
    "#bond is considered as iteral hindi meaning\n",
    "output = translator('नाम हैरी पॉटर, हैरी पॉटर',\n",
    "                   src_lang='urd_Arab',\n",
    "                   tgt_lang='hin_Deva')\n",
    "\n",
    "print(output)\n"
   ]
  },
  {
   "cell_type": "markdown",
   "id": "619bd7bf",
   "metadata": {},
   "source": [
    "### Urdu to Hindi translator"
   ]
  },
  {
   "cell_type": "code",
   "execution_count": 29,
   "id": "be43fb29",
   "metadata": {},
   "outputs": [
    {
     "name": "stdout",
     "output_type": "stream",
     "text": [
      "[{'translation_text': 'نام ہیری پوٹر، ہیری پوٹر'}]\n"
     ]
    }
   ],
   "source": [
    "#bond is considered as iteral hindi meaning\n",
    "output = translator('नाम हैरी पॉटर, हैरी पॉटर',\n",
    "                   src_lang='hin_Deva',\n",
    "                   tgt_lang='urd_Arab')\n",
    "\n",
    "print(output)\n"
   ]
  },
  {
   "cell_type": "code",
   "execution_count": 30,
   "id": "272f0e72",
   "metadata": {},
   "outputs": [
    {
     "name": "stdout",
     "output_type": "stream",
     "text": [
      "[{'translation_text': 'आसान'}]\n"
     ]
    }
   ],
   "source": [
    "#bond is considered as iteral hindi meaning\n",
    "output = translator('آسان',\n",
    "                   src_lang='urd_Arab',\n",
    "                   tgt_lang='hin_Deva')\n",
    "\n",
    "print(output)\n"
   ]
  },
  {
   "cell_type": "code",
   "execution_count": 35,
   "id": "a1b0e37f",
   "metadata": {},
   "outputs": [
    {
     "name": "stdout",
     "output_type": "stream",
     "text": [
      "[{'translation_text': 'प्यार की खुशबू दिल को भर देती है दुख की दुनिया में मुस्कुराना।'}]\n"
     ]
    }
   ],
   "source": [
    "#bond is considered as iteral hindi meaning\n",
    "output = translator('''محبت کی خوشبو میں دل کو بسانا ہے\n",
    "غموں کی دنیا میں مسکرانا ہے۔\n",
    "                    ''',\n",
    "                   src_lang='urd_Arab',\n",
    "                   tgt_lang='hin_Deva')\n",
    "\n",
    "print(output)\n"
   ]
  },
  {
   "cell_type": "code",
   "execution_count": null,
   "id": "3075a2fc",
   "metadata": {},
   "outputs": [],
   "source": []
  }
 ],
 "metadata": {
  "kernelspec": {
   "display_name": "Python 3 (ipykernel)",
   "language": "python",
   "name": "python3"
  },
  "language_info": {
   "codemirror_mode": {
    "name": "ipython",
    "version": 3
   },
   "file_extension": ".py",
   "mimetype": "text/x-python",
   "name": "python",
   "nbconvert_exporter": "python",
   "pygments_lexer": "ipython3",
   "version": "3.10.12"
  }
 },
 "nbformat": 4,
 "nbformat_minor": 5
}
