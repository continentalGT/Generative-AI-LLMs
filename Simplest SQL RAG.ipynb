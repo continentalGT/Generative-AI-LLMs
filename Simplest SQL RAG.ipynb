{
 "cells": [
  {
   "cell_type": "markdown",
   "id": "8a521fdc-485a-460c-be20-fe3410b62a06",
   "metadata": {},
   "source": [
    "### Building a RAG System based on connection and retrival through mysql connection"
   ]
  },
  {
   "cell_type": "code",
   "execution_count": 241,
   "id": "78a28fd0-7d49-4282-a813-8e6d2977fec3",
   "metadata": {},
   "outputs": [],
   "source": [
    "password = password"
   ]
  },
  {
   "cell_type": "code",
   "execution_count": 243,
   "id": "c70b05b4-67d4-48a5-b7a5-ccfe0b49f8f2",
   "metadata": {},
   "outputs": [],
   "source": [
    "import mysql.connector\n",
    "connection = mysql.connector.connect(\n",
    "    host='localhost',\n",
    "    user='root',\n",
    "    password=password,\n",
    "    database='employees'\n",
    ")\n",
    "cursor = connection.cursor(buffered=True)\n",
    "# cursor.execute('SHOW TABLES')\n",
    "# tables = cursor.fetchall()\n",
    "# tables\n",
    "#database\n",
    "select_query = 'SELECT * FROM employees LIMIT 10'\n",
    "cursor.execute(select_query)\n",
    "# \n",
    "row = cursor.fetchall()\n"
   ]
  },
  {
   "cell_type": "code",
   "execution_count": 170,
   "id": "2d9ab796-eb13-472b-bcec-9251d556495a",
   "metadata": {},
   "outputs": [],
   "source": [
    "\n",
    "import os\n",
    "\n",
    "\n",
    "#model instantiate \n",
    "from langchain_openai import ChatOpenAI\n",
    "\n",
    "llm = ChatOpenAI(\n",
    "    base_url=\"https://api.together.xyz/v1\",\n",
    "    api_key=os.environ[\"TOGETHERAI_API_KEY\"],\n",
    "    model=\"meta-llama/Llama-3.3-70B-Instruct-Turbo-Free\",\n",
    ")"
   ]
  },
  {
   "cell_type": "markdown",
   "id": "98ffb279-5098-4513-af06-6dc0604347ac",
   "metadata": {},
   "source": [
    "### Converting query to Code\n"
   ]
  },
  {
   "cell_type": "code",
   "execution_count": 173,
   "id": "24e59c3a-111d-402f-a666-a07532a090eb",
   "metadata": {},
   "outputs": [],
   "source": [
    "question = 'How many unique departments are there in departments table . name of column is dept_name'\n"
   ]
  },
  {
   "cell_type": "code",
   "execution_count": 175,
   "id": "c0b30ff7-4927-4947-b52f-ec4837977a27",
   "metadata": {},
   "outputs": [],
   "source": [
    "prompt = f'''follow the instructions strictly.\n",
    "only provide the SQL code for the question asked below.\n",
    "{question}\n",
    "never provide anything other than that.\n",
    "no english , no puncutaltuins.'''"
   ]
  },
  {
   "cell_type": "code",
   "execution_count": 177,
   "id": "24fcefc2-ab09-4aed-84a5-b7af06bb968f",
   "metadata": {},
   "outputs": [
    {
     "data": {
      "text/plain": [
       "'follow the instructions strictly.\\nonly provide the SQL code for the question asked below.\\nHow many unique departments are there in departments table . name of column is dept_name\\nnever provide anything other than that.\\nno english , no puncutaltuins.'"
      ]
     },
     "execution_count": 177,
     "metadata": {},
     "output_type": "execute_result"
    }
   ],
   "source": [
    "prompt = prompt.format({'question':question})\n",
    "prompt"
   ]
  },
  {
   "cell_type": "code",
   "execution_count": 179,
   "id": "b572cb03-46c1-4d90-addd-fef0fbabc686",
   "metadata": {},
   "outputs": [
    {
     "data": {
      "text/plain": [
       "'SELECT COUNT(DISTINCT dept_name) FROM departments'"
      ]
     },
     "execution_count": 179,
     "metadata": {},
     "output_type": "execute_result"
    }
   ],
   "source": [
    "query = llm.invoke(prompt)\n",
    "\n",
    "query = query.content\n",
    "query"
   ]
  },
  {
   "cell_type": "markdown",
   "id": "51b2d26c-1062-4a96-b4a6-e715c7bdc1ee",
   "metadata": {},
   "source": [
    "### Executing Query"
   ]
  },
  {
   "cell_type": "code",
   "execution_count": 182,
   "id": "128e8840-b09f-4a0d-9a07-f6b64e20d1b2",
   "metadata": {},
   "outputs": [
    {
     "data": {
      "text/plain": [
       "'(9,)'"
      ]
     },
     "execution_count": 182,
     "metadata": {},
     "output_type": "execute_result"
    }
   ],
   "source": [
    "cursor.execute(query)\n",
    "result=cursor.fetchall()\n",
    "result = str(result[0]) #casting in string\n",
    "result"
   ]
  },
  {
   "cell_type": "code",
   "execution_count": null,
   "id": "1e1e64c3-c468-4d7e-8e65-2d996f6ff7ab",
   "metadata": {},
   "outputs": [],
   "source": []
  },
  {
   "cell_type": "markdown",
   "id": "b516e780-bfb9-4a7e-8822-4369b3913730",
   "metadata": {},
   "source": [
    "#### Geenrate answer"
   ]
  },
  {
   "cell_type": "code",
   "execution_count": 186,
   "id": "9ef8ab25-a859-467d-b902-f2c57dc7132e",
   "metadata": {},
   "outputs": [],
   "source": [
    "prompt = f''' given the result received {result} of the sql query.\n",
    "provide the result to the user in max 20 words.\n",
    "include`` hello your result is`` before result\n",
    "always say ``Have a great day in the end`` in the end\n",
    "'''\n",
    "final = llm.invoke(prompt)\n"
   ]
  },
  {
   "cell_type": "code",
   "execution_count": 187,
   "id": "236eb013-5925-458b-b992-5df995267dbb",
   "metadata": {},
   "outputs": [
    {
     "data": {
      "text/plain": [
       "'Hello your result is 9. Have a great day!'"
      ]
     },
     "execution_count": 187,
     "metadata": {},
     "output_type": "execute_result"
    }
   ],
   "source": [
    "\n",
    "final.content"
   ]
  },
  {
   "cell_type": "code",
   "execution_count": null,
   "id": "a5e3c4bf-d630-4912-8009-ae15ee9b08a3",
   "metadata": {},
   "outputs": [],
   "source": []
  },
  {
   "cell_type": "code",
   "execution_count": null,
   "id": "b33f57d0-af7b-4a6c-98c2-840094bf5be9",
   "metadata": {},
   "outputs": [],
   "source": []
  }
 ],
 "metadata": {
  "kernelspec": {
   "display_name": "Python 3 (ipykernel)",
   "language": "python",
   "name": "python3"
  },
  "language_info": {
   "codemirror_mode": {
    "name": "ipython",
    "version": 3
   },
   "file_extension": ".py",
   "mimetype": "text/x-python",
   "name": "python",
   "nbconvert_exporter": "python",
   "pygments_lexer": "ipython3",
   "version": "3.12.7"
  }
 },
 "nbformat": 4,
 "nbformat_minor": 5
}
