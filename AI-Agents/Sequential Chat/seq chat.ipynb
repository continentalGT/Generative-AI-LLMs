{
 "cells": [
  {
   "cell_type": "code",
   "execution_count": 9,
   "id": "f5199953-05ce-40fb-b873-bc85f35700d8",
   "metadata": {},
   "outputs": [],
   "source": [
    "from autogen import ConversableAgent\n",
    "import warnings\n",
    "warnings.filterwarnings('ignore')"
   ]
  },
  {
   "cell_type": "markdown",
   "id": "f20fe702-a77f-4cb3-aa1a-faa718554055",
   "metadata": {},
   "source": [
    "### Configuering LLM"
   ]
  },
  {
   "cell_type": "code",
   "execution_count": 12,
   "id": "1f5298f8-8fe8-4115-bcc3-5949ecb3b8cd",
   "metadata": {},
   "outputs": [],
   "source": [
    "config_list = {\n",
    "        # Let's choose the Meta's Llama 3.1 model (model names must match Ollama exactly)\n",
    "        \"model\": \"llama3.2\",\n",
    "        # We specify the API Type as 'ollama' so it uses the Ollama client class\n",
    "        \"api_type\": \"ollama\",\n",
    "        \"stream\": False,\n",
    "       \"client_host\": \"http://127.0.0.1:11434\",\n",
    "    }\n"
   ]
  },
  {
   "cell_type": "markdown",
   "id": "21d16d49-a6b5-4831-b88a-8d6dc48c4e53",
   "metadata": {},
   "source": [
    "### Configuering agents\n"
   ]
  },
  {
   "cell_type": "code",
   "execution_count": 15,
   "id": "3b2d7b7e-a27c-4600-8098-2d0052c43edd",
   "metadata": {},
   "outputs": [],
   "source": [
    "agent1 = ConversableAgent(\n",
    "    name='Zakhir',\n",
    "    system_message=f'''You are a librarian and your esponsibility is to gather the information\n",
    "    about name and place from the user. Ask name and place one by one and after that \n",
    "    terminate the chat.''',\n",
    "    llm_config=config_list,\n",
    "    human_input_mode = 'NEVER'\n",
    ")\n",
    "\n",
    "\n",
    "\n",
    "\n",
    "agent2 = ConversableAgent(\n",
    "    name = 'Geeta',\n",
    "    system_message=f'''You are an assistant to librarian Zakhir and your responsibility is to ask Genre\n",
    "    from the user . You have to ask 3 most favorite Genre from user one by one separately \n",
    "    and after that TERMINATE The Chat''',\n",
    "    llm_config=config_list,\n",
    "    human_input_mode='NEVER'\n",
    ")\n",
    "\n",
    "\n",
    "agent3 = ConversableAgent(\n",
    "    name = 'Subhash',\n",
    "    system_message=f'''You are a part of Library team ad You have to recommend 5 books to the user based on the information user has provided.\n",
    "    After recommendation TERMINATE The chat''',\n",
    "    llm_config=config_list,\n",
    "    human_input_mode='NEVER'\n",
    ")"
   ]
  },
  {
   "cell_type": "markdown",
   "id": "9d6e700c-3cb8-40bf-b57f-614d139b21c2",
   "metadata": {},
   "source": [
    "### Configuering Reader"
   ]
  },
  {
   "cell_type": "code",
   "execution_count": 18,
   "id": "4df1cbff-93dc-44ea-8dea-001fd902a84c",
   "metadata": {},
   "outputs": [],
   "source": [
    "Reader = ConversableAgent(\n",
    "    name=\"Mukesh\",\n",
    "    llm_config=False,\n",
    "    code_execution_config=False,\n",
    "    human_input_mode=\"ALWAYS\",\n",
    "    is_termination_msg=lambda msg: \"terminate\" in msg.get(\"content\").lower(),\n",
    ")"
   ]
  },
  {
   "cell_type": "markdown",
   "id": "8922146e-6e94-428e-aa87-a5fd3d02aeb7",
   "metadata": {},
   "source": [
    "### Creating a Task"
   ]
  },
  {
   "cell_type": "code",
   "execution_count": 21,
   "id": "b06bacd3-6d5a-4a50-b643-5ebb803e2fb4",
   "metadata": {},
   "outputs": [],
   "source": [
    "chats = [\n",
    "\n",
    "    {\n",
    "        'sender':agent1,\n",
    "        'recipient':Reader,\n",
    "        'message':'Hello , How mayI help you.What on earth has bought you in the Central library of this world,Please tell me your name and location',\n",
    "        'summary_methoed':\"refelection\",\n",
    "        'summary_prompt':'Return the customer information in JSON format {\"name\":...,\"location\":...}',\n",
    "                                                        \n",
    "        'max_turns':2,\n",
    "    },\n",
    "\n",
    "\n",
    "    {   'sender':agent2,\n",
    "        'recipient':Reader,\n",
    "        'message':'Hello , Hiii, Can you tell me your top 3 prefrences for Genres',\n",
    "        'summary_methoed':\"refelection\",\n",
    "        'max_turns':1,\n",
    "    },\n",
    "    {\n",
    "        'sender':Reader,\n",
    "        'recipient':agent3,\n",
    "        'message':'Great lets find something interesting to read',\n",
    "        'summary_methoed':\"refelection\",\n",
    "        'max_turns':1,\n",
    "    }\n",
    "]\n",
    "        \n",
    "        "
   ]
  },
  {
   "cell_type": "code",
   "execution_count": 23,
   "id": "0c39fea8-0086-4028-b1d3-85cc928d85f5",
   "metadata": {},
   "outputs": [
    {
     "name": "stdout",
     "output_type": "stream",
     "text": [
      "\u001b[34m\n",
      "********************************************************************************\u001b[0m\n",
      "\u001b[34mStarting a new chat....\u001b[0m\n",
      "\u001b[34m\n",
      "********************************************************************************\u001b[0m\n",
      "\u001b[33mZakhir\u001b[0m (to Mukesh):\n",
      "\n",
      "Hello , How mayI help you.What on earth has bought you in the Central library of this world,Please tell me your name and location\n",
      "\n",
      "--------------------------------------------------------------------------------\n"
     ]
    },
    {
     "name": "stdin",
     "output_type": "stream",
     "text": [
      "Replying as Mukesh. Provide feedback to Zakhir. Press enter to skip and use auto-reply, or type 'exit' to end the conversation:  Mukesh\n"
     ]
    },
    {
     "name": "stdout",
     "output_type": "stream",
     "text": [
      "\u001b[33mMukesh\u001b[0m (to Zakhir):\n",
      "\n",
      "Mukesh\n",
      "\n",
      "--------------------------------------------------------------------------------\n",
      "\u001b[33mZakhir\u001b[0m (to Mukesh):\n",
      "\n",
      "Nice to meet you Mukesh!\n",
      "\n",
      "Now, please tell me, where are you from? What's your place of origin?\n",
      "\n",
      "--------------------------------------------------------------------------------\n"
     ]
    },
    {
     "name": "stdin",
     "output_type": "stream",
     "text": [
      "Replying as Mukesh. Provide feedback to Zakhir. Press enter to skip and use auto-reply, or type 'exit' to end the conversation:  Lalbagh\n"
     ]
    },
    {
     "name": "stdout",
     "output_type": "stream",
     "text": [
      "\u001b[33mMukesh\u001b[0m (to Zakhir):\n",
      "\n",
      "Lalbagh\n",
      "\n",
      "--------------------------------------------------------------------------------\n",
      "\u001b[34m\n",
      "********************************************************************************\u001b[0m\n",
      "\u001b[34mStarting a new chat....\u001b[0m\n",
      "\u001b[34m\n",
      "********************************************************************************\u001b[0m\n",
      "\u001b[33mGeeta\u001b[0m (to Mukesh):\n",
      "\n",
      "Hello , Hiii, Can you tell me your top 3 prefrences for Genres\n",
      "Context: \n",
      "Lalbagh\n",
      "\n",
      "--------------------------------------------------------------------------------\n"
     ]
    },
    {
     "name": "stdin",
     "output_type": "stream",
     "text": [
      "Replying as Mukesh. Provide feedback to Geeta. Press enter to skip and use auto-reply, or type 'exit' to end the conversation:  crime , thriller \n"
     ]
    },
    {
     "name": "stdout",
     "output_type": "stream",
     "text": [
      "\u001b[33mMukesh\u001b[0m (to Geeta):\n",
      "\n",
      "crime , thriller \n",
      "\n",
      "--------------------------------------------------------------------------------\n",
      "\u001b[34m\n",
      "********************************************************************************\u001b[0m\n",
      "\u001b[34mStarting a new chat....\u001b[0m\n",
      "\u001b[34m\n",
      "********************************************************************************\u001b[0m\n",
      "\u001b[33mMukesh\u001b[0m (to Subhash):\n",
      "\n",
      "Great lets find something interesting to read\n",
      "Context: \n",
      "Lalbagh\n",
      "crime , thriller \n",
      "\n",
      "--------------------------------------------------------------------------------\n",
      "\u001b[33mSubhash\u001b[0m (to Mukesh):\n",
      "\n",
      "Based on your interest in Lalbagh and crime/thriller genres, I'd like to recommend the following five books:\n",
      "\n",
      "1. **\"The Best Seller\" by M. K. Bhadra**: Set in modern-day Kolkata (formerly Calcutta), this novel weaves a web of mystery and intrigue around a best-selling author who returns to his hometown for a literary festival. As the story unfolds, dark secrets from his past begin to surface.\n",
      "\n",
      "2. **\"The White Tiger\" by Aravind Adiga**: Although primarily a satirical novel, it also delves into the darker side of human nature. The story revolves around Balraj, an ambitious young man who turns to crime to escape poverty and gain wealth. His journey is intertwined with the rise of India's middle class.\n",
      "\n",
      "3. **\"The Devourers\" by Indra Das**: A psychological thriller that draws inspiration from Indian mythology, this novel tells the tale of a detective trying to solve a series of gruesome murders in contemporary New York City. The story delves into themes of identity and redemption.\n",
      "\n",
      "4. **\"The Circle of Reason\" by Shrabani Basu**: Based on real historical events, this novel revolves around two women - one a victim of crime and the other an architect who helps her solve the mystery surrounding her death. It's a gripping tale that explores the intersection of history, crime, and society.\n",
      "\n",
      "5. **\"The Republic of Doubt\" by Amitav Ghosh**: Set in contemporary India, this novel delves into themes of identity, faith, and power when it tells the story of a man who is wrongly accused of murder. The narrative weaves together threads from various cultures, traditions, and historical contexts to create an immersive experience.\n",
      "\n",
      "Which one of these catches your attention?\n",
      "\n",
      "--------------------------------------------------------------------------------\n"
     ]
    }
   ],
   "source": [
    "from autogen import initiate_chats\n",
    "\n",
    "chat_results = initiate_chats(chats)"
   ]
  },
  {
   "cell_type": "code",
   "execution_count": 25,
   "id": "1156ac48-3ca1-4925-988b-18d77e9a1101",
   "metadata": {},
   "outputs": [
    {
     "name": "stdout",
     "output_type": "stream",
     "text": [
      "Lalbagh\n",
      "\n",
      "\n",
      "crime , thriller \n",
      "\n",
      "\n",
      "Based on your interest in Lalbagh and crime/thriller genres, I'd like to recommend the following five books:\n",
      "\n",
      "1. **\"The Best Seller\" by M. K. Bhadra**: Set in modern-day Kolkata (formerly Calcutta), this novel weaves a web of mystery and intrigue around a best-selling author who returns to his hometown for a literary festival. As the story unfolds, dark secrets from his past begin to surface.\n",
      "\n",
      "2. **\"The White Tiger\" by Aravind Adiga**: Although primarily a satirical novel, it also delves into the darker side of human nature. The story revolves around Balraj, an ambitious young man who turns to crime to escape poverty and gain wealth. His journey is intertwined with the rise of India's middle class.\n",
      "\n",
      "3. **\"The Devourers\" by Indra Das**: A psychological thriller that draws inspiration from Indian mythology, this novel tells the tale of a detective trying to solve a series of gruesome murders in contemporary New York City. The story delves into themes of identity and redemption.\n",
      "\n",
      "4. **\"The Circle of Reason\" by Shrabani Basu**: Based on real historical events, this novel revolves around two women - one a victim of crime and the other an architect who helps her solve the mystery surrounding her death. It's a gripping tale that explores the intersection of history, crime, and society.\n",
      "\n",
      "5. **\"The Republic of Doubt\" by Amitav Ghosh**: Set in contemporary India, this novel delves into themes of identity, faith, and power when it tells the story of a man who is wrongly accused of murder. The narrative weaves together threads from various cultures, traditions, and historical contexts to create an immersive experience.\n",
      "\n",
      "Which one of these catches your attention?\n",
      "\n",
      "\n"
     ]
    }
   ],
   "source": [
    "for chat_result in chat_results:\n",
    "    print(chat_result.summary)\n",
    "    print(\"\\n\")"
   ]
  },
  {
   "cell_type": "code",
   "execution_count": 27,
   "id": "0390a59d-ae7e-448f-a8d4-1dd4e96fa869",
   "metadata": {},
   "outputs": [
    {
     "name": "stdout",
     "output_type": "stream",
     "text": [
      "{'usage_including_cached_inference': {'total_cost': 0, 'llama3.2': {'cost': 0, 'prompt_tokens': 101, 'completion_tokens': 26, 'total_tokens': 127}}, 'usage_excluding_cached_inference': {'total_cost': 0, 'llama3.2': {'cost': 0, 'prompt_tokens': 101, 'completion_tokens': 26, 'total_tokens': 127}}}\n",
      "\n",
      "\n",
      "{'usage_including_cached_inference': {'total_cost': 0}, 'usage_excluding_cached_inference': {'total_cost': 0}}\n",
      "\n",
      "\n",
      "{'usage_including_cached_inference': {'total_cost': 0, 'llama3.2': {'cost': 0, 'prompt_tokens': 78, 'completion_tokens': 363, 'total_tokens': 441}}, 'usage_excluding_cached_inference': {'total_cost': 0, 'llama3.2': {'cost': 0, 'prompt_tokens': 78, 'completion_tokens': 363, 'total_tokens': 441}}}\n",
      "\n",
      "\n"
     ]
    }
   ],
   "source": [
    "for chat_result in chat_results:\n",
    "    print(chat_result.cost)\n",
    "    print(\"\\n\")"
   ]
  },
  {
   "cell_type": "code",
   "execution_count": null,
   "id": "44dbbacc-f850-4304-bc82-9b9e87166dda",
   "metadata": {},
   "outputs": [],
   "source": []
  },
  {
   "cell_type": "code",
   "execution_count": null,
   "id": "95606e39-e730-4145-bd38-e27ec83a48d7",
   "metadata": {},
   "outputs": [],
   "source": []
  }
 ],
 "metadata": {
  "kernelspec": {
   "display_name": "Python 3 (ipykernel)",
   "language": "python",
   "name": "python3"
  },
  "language_info": {
   "codemirror_mode": {
    "name": "ipython",
    "version": 3
   },
   "file_extension": ".py",
   "mimetype": "text/x-python",
   "name": "python",
   "nbconvert_exporter": "python",
   "pygments_lexer": "ipython3",
   "version": "3.12.7"
  }
 },
 "nbformat": 4,
 "nbformat_minor": 5
}
