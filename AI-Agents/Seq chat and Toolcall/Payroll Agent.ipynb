{
 "cells": [
  {
   "cell_type": "markdown",
   "id": "900b0cad-3636-4dca-9546-1895de220562",
   "metadata": {},
   "source": [
    "# Payroll Agent\n",
    "- An agent which will interact with the user asking information\n",
    "- based on the information give a decsion and execute a call by another agent which will send a mail regrading decsion by payroll agent"
   ]
  },
  {
   "cell_type": "markdown",
   "id": "4305f55b-476e-4435-9dcc-4c5502c315e7",
   "metadata": {},
   "source": [
    "### Instatiating model"
   ]
  },
  {
   "cell_type": "code",
   "execution_count": 101,
   "id": "3636a98a-3a77-4f5b-9c65-ebcbc810b19a",
   "metadata": {},
   "outputs": [],
   "source": [
    "import warnings\n",
    "warnings.filterwarnings('ignore')\n",
    "from autogen import ConversableAgent\n"
   ]
  },
  {
   "cell_type": "code",
   "execution_count": 103,
   "id": "6e375ef8-188a-4a40-890a-47313a4bfaae",
   "metadata": {},
   "outputs": [],
   "source": [
    "import os\n",
    "\n",
    "config_list = {\n",
    "        \n",
    "        \"model\": \"meta-llama/Llama-3.3-70B-Instruct-Turbo-Free\",\n",
    "        \"api_key\": os.environ.get(\"TOGETHERAI_API_KEY\"),\n",
    "        # We specify the API Type as 'together' so it uses the Together.AI client class\n",
    "        \"api_type\": \"together\",\n",
    "        \"stream\": False,\n",
    "    }"
   ]
  },
  {
   "cell_type": "code",
   "execution_count": 105,
   "id": "dacd67ae-4d1a-40ef-a93e-771183658b13",
   "metadata": {},
   "outputs": [
    {
     "name": "stdout",
     "output_type": "stream",
     "text": [
      "1. Name \n",
      "2. email id?\n",
      "3. are you a trainer?\n",
      "4. is your trip completed?\n",
      "5.what is your ratings?\n",
      "6.do you have manager approval?\n",
      "\n"
     ]
    }
   ],
   "source": [
    "# Open the file in read mode\n",
    "with open(\"policy.txt\", \"r\") as file:\n",
    "    content = file.read()  # Reads the entire content of the file\n",
    "    print(content)\n"
   ]
  },
  {
   "cell_type": "code",
   "execution_count": 107,
   "id": "b8964745-d9fb-4e09-ae20-156f806a87f9",
   "metadata": {},
   "outputs": [],
   "source": [
    "payroll = ConversableAgent(\n",
    "    name=\"payroll\",\n",
    "    system_message=f'''You are a helpful payroll team agent,\n",
    "    you are here to help employees with travel and direct allowance.\n",
    "    Your job is to gather employees information which is mandatory and following.\n",
    "    {content}\n",
    "\n",
    "    ask the complete information and make sure to ask the information one by one .\n",
    "    bring all the information in the JSON format at the end\n",
    "    \n",
    "\n",
    "    if all the information is fullfilled .Fullfilled means he is a trainer,\n",
    "    trip is completed and \n",
    "    rating is above 3 \n",
    "    and manager approval is yes\n",
    "    tell him that credit will be processed post 6:00PM today and \n",
    "    amount will be credited within 2-3 business days in registered bank account.\n",
    "    \n",
    "    if any of the condition is not fullfilled ,politely tell him the requirement to fullfill and \n",
    "    then again appply for allowances\n",
    "    \n",
    "    Do not ask for other information. Return 'TERMINATE' \n",
    "    when you have gathered all the information.''',\n",
    "    llm_config=config_list,\n",
    "    code_execution_config=False,\n",
    "    human_input_mode=\"NEVER\",\n",
    ")\n",
    "\n",
    "\n",
    "#Non-LLM powered agent which will execute the tool\n",
    "executive_mail =  ConversableAgent(\n",
    "    name = 'executive_mail',\n",
    "    llm_config=False, #this is a Non-LLM powered Agent\n",
    "    \n",
    ")\n",
    "\n",
    "\n",
    "\n",
    "\n",
    "employee = ConversableAgent(\n",
    "    name=\"employee\",\n",
    "    llm_config=False, #llm_config=False means that the ConversableAgent will not use a Language Model (LLM) to generate responses.\n",
    "    code_execution_config=False,\n",
    "    human_input_mode=\"ALWAYS\",\n",
    "    is_termination_msg=lambda msg: \"terminate\" in msg.get(\"content\").lower(),\n",
    ")"
   ]
  },
  {
   "cell_type": "markdown",
   "id": "2c5127ab-624e-4851-8453-49c79330806c",
   "metadata": {},
   "source": [
    "### Creating a tool"
   ]
  },
  {
   "cell_type": "code",
   "execution_count": 110,
   "id": "3db13c73-4831-4798-916d-97812a098844",
   "metadata": {},
   "outputs": [],
   "source": [
    "import smtplib\n",
    "\n",
    "def send_mail(name:str,recipient:str,message:str)->str:\n",
    "\n",
    "    subject = f'''Allowance Query'''\n",
    "    message = f'''Dear {name},\n",
    "                {message}'''\n",
    "    \n",
    "    my_email = \"YOUR_MAIL_ID\"\n",
    "    password = \"YOUR_APP_PASSWORD\"\n",
    "\n",
    "    try:\n",
    "        with smtplib.SMTP(\"smtp.gmail.com\", 587) as connection:\n",
    "            connection.starttls()\n",
    "            connection.login(user=my_email, password=password)\n",
    "            email_message = f\"Subject:{subject}\\n\\n{message}\"\n",
    "            connection.sendmail(from_addr=my_email, to_addrs=recipient, msg=email_message)\n",
    "        return f\"Email successfully sent to {recipient}!\"\n",
    "    except Exception as e:\n",
    "        return f\"Error sending email: {e}\""
   ]
  },
  {
   "cell_type": "markdown",
   "id": "10404f66-7218-4edd-a0df-3623e921d682",
   "metadata": {},
   "source": [
    "### Registering tool"
   ]
  },
  {
   "cell_type": "code",
   "execution_count": 113,
   "id": "7948fc1f-2348-45ad-975b-b0bf5a189ebc",
   "metadata": {},
   "outputs": [],
   "source": [
    "#register tool\n",
    "from autogen import register_function\n",
    "\n",
    "# Register the book function to the two agents.\n",
    "register_function(\n",
    "    send_mail,\n",
    "    caller=payroll,  # The assistant agent can suggest calls to the calculator.\n",
    "    executor=executive_mail,  # The user proxy agent can execute the calculator calls.\n",
    "    name=\"Mail_MAN\",  # By default, the function name is used as the tool name.\n",
    "    description=\"SEND Mail to employee after every decision\",  # A description of the tool.\n",
    ")\n"
   ]
  },
  {
   "cell_type": "code",
   "execution_count": 115,
   "id": "0590148e-12d3-422d-a5d7-74a7eed6ac1e",
   "metadata": {},
   "outputs": [],
   "source": [
    "#create a task\n",
    "\n",
    "chats = [\n",
    "    {'sender':payroll,\n",
    "     'recipient':employee,\n",
    "     'message':'Hello Could you Please help me out with the information',\n",
    "     #'summary_method':'last_msg',\n",
    "     'summary_method':'reflection_with_llm',\n",
    "     'max_turns':8,\n",
    "     \n",
    "    },\n",
    "    {'sender':executive_mail,\n",
    "     'recipient':payroll,\n",
    "     'message':f'''Send the mail to the employee using the name and email id provided by the employee.\n",
    "     Also use the decision at the end as the mail body the decision is the last message of payroll''',\n",
    "     'max_turns':2,\n",
    "     'summary_method':'reflection_with_llm'\n",
    "    }\n",
    "]\n",
    "\n",
    "    "
   ]
  },
  {
   "cell_type": "code",
   "execution_count": 117,
   "id": "7c6d594d-7787-4f38-8675-12bd7a3501c7",
   "metadata": {},
   "outputs": [
    {
     "name": "stdout",
     "output_type": "stream",
     "text": [
      "\u001b[34m\n",
      "********************************************************************************\u001b[0m\n",
      "\u001b[34mStarting a new chat....\u001b[0m\n",
      "\u001b[34m\n",
      "********************************************************************************\u001b[0m\n",
      "\u001b[33mpayroll\u001b[0m (to employee):\n",
      "\n",
      "Hello Could you Please help me out with the information\n",
      "\n",
      "--------------------------------------------------------------------------------\n"
     ]
    },
    {
     "name": "stdout",
     "output_type": "stream",
     "text": [
      "Replying as employee. Provide feedback to payroll. Press enter to skip and use auto-reply, or type 'exit' to end the conversation:  ok\n"
     ]
    },
    {
     "name": "stdout",
     "output_type": "stream",
     "text": [
      "\u001b[33memployee\u001b[0m (to payroll):\n",
      "\n",
      "ok\n",
      "\n",
      "--------------------------------------------------------------------------------\n",
      "\u001b[33mpayroll\u001b[0m (to employee):\n",
      "\n",
      "What is your name?\n",
      "\n",
      "--------------------------------------------------------------------------------\n"
     ]
    },
    {
     "name": "stdout",
     "output_type": "stream",
     "text": [
      "Replying as employee. Provide feedback to payroll. Press enter to skip and use auto-reply, or type 'exit' to end the conversation:  shubhankar\n"
     ]
    },
    {
     "name": "stdout",
     "output_type": "stream",
     "text": [
      "\u001b[33memployee\u001b[0m (to payroll):\n",
      "\n",
      "shubhankar\n",
      "\n",
      "--------------------------------------------------------------------------------\n",
      "\u001b[33mpayroll\u001b[0m (to employee):\n",
      "\n",
      "\u001b[32m***** Suggested tool call (call_snj0owgmd013js0up63t3hlu): Mail_MAN *****\u001b[0m\n",
      "Arguments: \n",
      "{\"name\":\"shubhankar\",\"recipient\":\"shubhankar@example.com\",\"message\":\"Hello, your information has been recorded.\"}\n",
      "\u001b[32m*************************************************************************\u001b[0m\n",
      "\n",
      "--------------------------------------------------------------------------------\n"
     ]
    },
    {
     "name": "stdout",
     "output_type": "stream",
     "text": [
      "Replying as employee. Provide feedback to payroll. Press enter to skip and use auto-reply, or type 'exit' to end the conversation:  shubhankarsharma1395@gmail.com\n"
     ]
    },
    {
     "name": "stdout",
     "output_type": "stream",
     "text": [
      "\u001b[33memployee\u001b[0m (to payroll):\n",
      "\n",
      "shubhankarsharma1395@gmail.com\n",
      "\n",
      "--------------------------------------------------------------------------------\n",
      "\u001b[33mpayroll\u001b[0m (to employee):\n",
      "\n",
      "Are you a trainer?\n",
      "\n",
      "--------------------------------------------------------------------------------\n"
     ]
    },
    {
     "name": "stdout",
     "output_type": "stream",
     "text": [
      "Replying as employee. Provide feedback to payroll. Press enter to skip and use auto-reply, or type 'exit' to end the conversation:  yes\n"
     ]
    },
    {
     "name": "stdout",
     "output_type": "stream",
     "text": [
      "\u001b[33memployee\u001b[0m (to payroll):\n",
      "\n",
      "yes\n",
      "\n",
      "--------------------------------------------------------------------------------\n",
      "\u001b[33mpayroll\u001b[0m (to employee):\n",
      "\n",
      "Is your trip completed?\n",
      "\n",
      "--------------------------------------------------------------------------------\n"
     ]
    },
    {
     "name": "stdout",
     "output_type": "stream",
     "text": [
      "Replying as employee. Provide feedback to payroll. Press enter to skip and use auto-reply, or type 'exit' to end the conversation:  yes\n"
     ]
    },
    {
     "name": "stdout",
     "output_type": "stream",
     "text": [
      "\u001b[33memployee\u001b[0m (to payroll):\n",
      "\n",
      "yes\n",
      "\n",
      "--------------------------------------------------------------------------------\n",
      "\u001b[33mpayroll\u001b[0m (to employee):\n",
      "\n",
      "What is your rating?\n",
      "\n",
      "--------------------------------------------------------------------------------\n"
     ]
    },
    {
     "name": "stdout",
     "output_type": "stream",
     "text": [
      "Replying as employee. Provide feedback to payroll. Press enter to skip and use auto-reply, or type 'exit' to end the conversation:  5\n"
     ]
    },
    {
     "name": "stdout",
     "output_type": "stream",
     "text": [
      "\u001b[33memployee\u001b[0m (to payroll):\n",
      "\n",
      "5\n",
      "\n",
      "--------------------------------------------------------------------------------\n",
      "\u001b[33mpayroll\u001b[0m (to employee):\n",
      "\n",
      "Do you have manager approval?\n",
      "\n",
      "--------------------------------------------------------------------------------\n"
     ]
    },
    {
     "name": "stdout",
     "output_type": "stream",
     "text": [
      "Replying as employee. Provide feedback to payroll. Press enter to skip and use auto-reply, or type 'exit' to end the conversation:  yes\n"
     ]
    },
    {
     "name": "stdout",
     "output_type": "stream",
     "text": [
      "\u001b[33memployee\u001b[0m (to payroll):\n",
      "\n",
      "yes\n",
      "\n",
      "--------------------------------------------------------------------------------\n",
      "\u001b[33mpayroll\u001b[0m (to employee):\n",
      "\n",
      "\u001b[32m***** Suggested tool call (call_tljgvh8h5m2036awxrezd65f): Mail_MAN *****\u001b[0m\n",
      "Arguments: \n",
      "{\"name\":\"shubhankar\",\"recipient\":\"shubhankarsharma1395@gmail.com\",\"message\":\"Credit will be processed post 6:00PM today and amount will be credited within 2-3 business days in registered bank account.\"}\n",
      "\u001b[32m*************************************************************************\u001b[0m\n",
      "\n",
      "--------------------------------------------------------------------------------\n"
     ]
    },
    {
     "name": "stdout",
     "output_type": "stream",
     "text": [
      "Replying as employee. Provide feedback to payroll. Press enter to skip and use auto-reply, or type 'exit' to end the conversation:  ok\n"
     ]
    },
    {
     "name": "stdout",
     "output_type": "stream",
     "text": [
      "\u001b[33memployee\u001b[0m (to payroll):\n",
      "\n",
      "ok\n",
      "\n",
      "--------------------------------------------------------------------------------\n",
      "\u001b[34m\n",
      "********************************************************************************\u001b[0m\n",
      "\u001b[34mStarting a new chat....\u001b[0m\n",
      "\u001b[34m\n",
      "********************************************************************************\u001b[0m\n",
      "\u001b[33mexecutive_mail\u001b[0m (to payroll):\n",
      "\n",
      "Send the mail to the employee using the name and email id provided by the employee.\n",
      "     Also use the decision at the end as the mail body the decision is the last message of payroll\n",
      "Context: \n",
      "shubhankar is a trainer with a rating of 5, has manager approval, and their trip is completed, with an email sent to shubhankarsharma1395@gmail.com regarding credit processing.\n",
      "\n",
      "--------------------------------------------------------------------------------\n",
      "\u001b[33mpayroll\u001b[0m (to executive_mail):\n",
      "\n",
      "\u001b[32m***** Suggested tool call (call_ddxbgh7cz5rbcgq0feqn9iqo): Mail_MAN *****\u001b[0m\n",
      "Arguments: \n",
      "{\"name\":\"shubhankar\",\"recipient\":\"shubhankarsharma1395@gmail.com\",\"message\":\"Credit will be processed post 6:00PM today and amount will be credited within 2-3 business days in registered bank account.\"}\n",
      "\u001b[32m*************************************************************************\u001b[0m\n",
      "\n",
      "--------------------------------------------------------------------------------\n",
      "\u001b[31m\n",
      ">>>>>>>> USING AUTO REPLY...\u001b[0m\n",
      "\u001b[35m\n",
      ">>>>>>>> EXECUTING FUNCTION Mail_MAN...\n",
      "Call ID: call_ddxbgh7cz5rbcgq0feqn9iqo\n",
      "Input arguments: {'name': 'shubhankar', 'recipient': 'shubhankarsharma1395@gmail.com', 'message': 'Credit will be processed post 6:00PM today and amount will be credited within 2-3 business days in registered bank account.'}\u001b[0m\n",
      "\u001b[33mexecutive_mail\u001b[0m (to payroll):\n",
      "\n",
      "\u001b[32m***** Response from calling tool (call_ddxbgh7cz5rbcgq0feqn9iqo) *****\u001b[0m\n",
      "Email successfully sent to shubhankarsharma1395@gmail.com!\n",
      "\u001b[32m**********************************************************************\u001b[0m\n",
      "\n",
      "--------------------------------------------------------------------------------\n",
      "\u001b[33mpayroll\u001b[0m (to executive_mail):\n",
      "\n",
      "\u001b[32m***** Suggested tool call (call_rwhquhwbvvdl0p7ir2q9rehx): Mail_MAN *****\u001b[0m\n",
      "Arguments: \n",
      "{\"name\":\"shubhankar\",\"recipient\":\"shubhankarsharma1395@gmail.com\",\"message\":\"Credit will be processed post 6:00PM today and amount will be credited within 2-3 business days in registered bank account.\"}\n",
      "\u001b[32m*************************************************************************\u001b[0m\n",
      "\n",
      "--------------------------------------------------------------------------------\n"
     ]
    }
   ],
   "source": [
    "from autogen import initiate_chats\n",
    "\n",
    "chat_results = initiate_chats(chats)"
   ]
  },
  {
   "cell_type": "code",
   "execution_count": null,
   "id": "f41df4cc-667f-4eda-84b4-f056258d24ba",
   "metadata": {},
   "outputs": [],
   "source": []
  },
  {
   "cell_type": "code",
   "execution_count": null,
   "id": "846438ee-8309-41c0-a0ba-56af2c23a52d",
   "metadata": {},
   "outputs": [],
   "source": []
  },
  {
   "cell_type": "code",
   "execution_count": null,
   "id": "86267517-524a-498e-bddb-e5c03b84c963",
   "metadata": {},
   "outputs": [],
   "source": []
  },
  {
   "cell_type": "code",
   "execution_count": null,
   "id": "b18058aa-24c9-4a9a-ae4d-5af8418427f8",
   "metadata": {},
   "outputs": [],
   "source": []
  },
  {
   "cell_type": "code",
   "execution_count": null,
   "id": "450b60ed-57dc-4769-a5dd-cb4589d8ae32",
   "metadata": {},
   "outputs": [],
   "source": []
  }
 ],
 "metadata": {
  "kernelspec": {
   "display_name": "Python 3 (ipykernel)",
   "language": "python",
   "name": "python3"
  },
  "language_info": {
   "codemirror_mode": {
    "name": "ipython",
    "version": 3
   },
   "file_extension": ".py",
   "mimetype": "text/x-python",
   "name": "python",
   "nbconvert_exporter": "python",
   "pygments_lexer": "ipython3",
   "version": "3.12.7"
  }
 },
 "nbformat": 4,
 "nbformat_minor": 5
}
