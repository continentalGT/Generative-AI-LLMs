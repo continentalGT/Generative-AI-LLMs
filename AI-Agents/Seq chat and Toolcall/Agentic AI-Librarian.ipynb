{
 "cells": [
  {
   "cell_type": "markdown",
   "id": "7131d881-98e6-4e02-8547-6b0f33c3de5e",
   "metadata": {},
   "source": [
    "# Activty\n",
    "\n",
    "- A student goes to the librarian to issue a random Book to read on weekend.\n",
    "- Librarian asks the student for information like RollNumber , Name and email_id.\n",
    "- Then Librarian ask the executive to call the tool and recommnd a random book to the student.\n",
    "- Along with that a Mail is also send to the student for the issuance of the book and all the information related to it"
   ]
  },
  {
   "cell_type": "markdown",
   "id": "2d7f5cd9-b335-4cd1-aa72-a3eb74fd75a4",
   "metadata": {},
   "source": [
    "### Instatiate the model "
   ]
  },
  {
   "cell_type": "code",
   "execution_count": 3,
   "id": "cd7ca70a-7251-4491-8154-c455f19f9ba8",
   "metadata": {},
   "outputs": [],
   "source": [
    "import warnings\n",
    "warnings.filterwarnings('ignore')\n",
    "import os\n",
    "\n",
    "config_list = {\n",
    "        \n",
    "        \"model\": \"meta-llama/Llama-3.3-70B-Instruct-Turbo-Free\",\n",
    "        \"api_key\": os.environ.get(\"TOGETHERAI_API_KEY\"),\n",
    "        \"api_type\": \"together\",\n",
    "        \"stream\": False,\n",
    "    }\n",
    "\n",
    "\n",
    "\n"
   ]
  },
  {
   "cell_type": "markdown",
   "id": "5a8e4e92-9f1e-45fe-ae96-b75eb128d5fb",
   "metadata": {},
   "source": [
    "### Creating two tools : One for random book recommendation and another for Mail"
   ]
  },
  {
   "cell_type": "markdown",
   "id": "672475e6-c1ad-43a8-a046-9f3a9e636a01",
   "metadata": {},
   "source": [
    "#### Tool:1"
   ]
  },
  {
   "cell_type": "code",
   "execution_count": 7,
   "id": "80bdafca-4334-4725-9b2c-cbc8efb6a6d8",
   "metadata": {},
   "outputs": [
    {
     "data": {
      "text/plain": [
       "'The power of Now'"
      ]
     },
     "execution_count": 7,
     "metadata": {},
     "output_type": "execute_result"
    }
   ],
   "source": [
    "#creating a Tool\n",
    "import random\n",
    "def books():\n",
    "    return random.choice(['Harry potter','101 days of solitude','Angel and Demons',\n",
    "                          'The power of Now','Homo  Sapiens','Da vinci code',\n",
    "                          'The hound of the baskerville',\n",
    "                          'The test of My life',\n",
    "                          'Dongri to Dubai'\n",
    "                         ])\n",
    "op = books()\n",
    "op"
   ]
  },
  {
   "cell_type": "markdown",
   "id": "25c1fb79-f278-4b0b-8ce0-13fbd62c52bf",
   "metadata": {},
   "source": [
    "### Tool2"
   ]
  },
  {
   "cell_type": "code",
   "execution_count": 22,
   "id": "fd1a494d-2c46-481e-b0a2-4cdb94925dc9",
   "metadata": {},
   "outputs": [],
   "source": [
    "import smtplib\n",
    "from datetime import datetime\n",
    "def send_mail(name:str,recipient:str,op:str)->str:\n",
    "\n",
    "    subject = f'''Book Issused on {datetime.now()}'''\n",
    "    message = f'''Dear {name},\n",
    "                The Book {op}  has been issued to you on {datetime.now()}.\n",
    "                Please enjoy the Reading and have fun.\n",
    "                And do not  miss out our weekend book discusion sessions in main hall of library.\n",
    "                Great day!!!\n",
    "                Head Librarian.'''\n",
    "    my_email = \"YOUR_EMAIL_ID\" #enter your mail id \n",
    "    password = \"APP_PASSWORD\"#enter the password or app_password\n",
    "\n",
    "    try:\n",
    "        with smtplib.SMTP(\"smtp.gmail.com\", 587) as connection:\n",
    "            connection.starttls()\n",
    "            connection.login(user=my_email, password=password)\n",
    "            email_message = f\"Subject:{subject}\\n\\n{message}\"\n",
    "            connection.sendmail(from_addr=my_email, to_addrs=recipient, msg=email_message)\n",
    "        return f\"Email successfully sent to {recipient}!\"\n",
    "    except Exception as e:\n",
    "        return f\"Error sending email: {e}\""
   ]
  },
  {
   "cell_type": "code",
   "execution_count": 37,
   "id": "03e6af4f-4604-454d-9242-4d7a6e399950",
   "metadata": {},
   "outputs": [],
   "source": [
    "# send_mail('Shubhankar','shubhankarsharma1395@gmail.com',op)"
   ]
  },
  {
   "cell_type": "markdown",
   "id": "85181334-eb71-4a49-bc58-ea656fcc00a0",
   "metadata": {},
   "source": [
    "### Creating agents"
   ]
  },
  {
   "cell_type": "code",
   "execution_count": 26,
   "id": "59bfef90-0040-4644-a73f-5276c4e05948",
   "metadata": {},
   "outputs": [],
   "source": [
    "from autogen import ConversableAgent\n",
    "\n",
    "\n",
    "\n",
    "#LLM powered agent which will interact with customer proxy\n",
    "assistant = ConversableAgent(\n",
    "    name = 'agent1',\n",
    "    system_message=f'''You are a Library AI assistant.\n",
    "    your responsibility is to collect the information fromn the student one by one \n",
    "    information is , name , \n",
    "    roll_no and email_id .\n",
    "    REMEMBER , to Ask each information one by one only and return all the gathered information in a JSON format at the last.\n",
    "    DO NOT ASSUME ANY INFORMATION ON YOUR OWN.\n",
    "\n",
    "    Once the information is collected , TERMINATE the chat.\n",
    "\n",
    "    \n",
    "   \n",
    "    ''',\n",
    "    llm_config=config_list,\n",
    "    \n",
    ")\n",
    "\n",
    "\n",
    "\n",
    "#Non-LLM powered agent which will execute the tool\n",
    "executive_book =  ConversableAgent(\n",
    "    name = 'executive_book',\n",
    "    llm_config=False, #this is a Non-LLM powered Agent\n",
    "    \n",
    ")\n",
    "\n",
    "\n",
    "#Non-LLM powered agent which will execute the tool\n",
    "executive_mail =  ConversableAgent(\n",
    "    name = 'executive_mail',\n",
    "    llm_config=False, #this is a Non-LLM powered Agent\n",
    "    \n",
    ")\n",
    "\n",
    "\n",
    "\n",
    "#Human Proxy , Non-LLM powered\n",
    "customer_proxy = ConversableAgent(\n",
    "    name = 'Human_Proxy',\n",
    "    llm_config=False,\n",
    "    human_input_mode='ALWAYS'\n",
    ")\n",
    "\n",
    "\n"
   ]
  },
  {
   "cell_type": "code",
   "execution_count": 27,
   "id": "25a5c8e8-6cdd-4811-85fa-fe71eeef0f2f",
   "metadata": {},
   "outputs": [
    {
     "name": "stderr",
     "output_type": "stream",
     "text": [
      "The return type of the function 'books' is not annotated. Although annotating it is optional, the function should return either a string, a subclass of 'pydantic.BaseModel'.\n"
     ]
    }
   ],
   "source": [
    "#register tool\n",
    "from autogen import register_function\n",
    "\n",
    "# Register the book function to the two agents.\n",
    "register_function(\n",
    "    books,\n",
    "    caller=assistant,  # The assistant agent can suggest calls to the calculator.\n",
    "    executor=executive_book,  # The user proxy agent can execute the calculator calls.\n",
    "    name=\"BOOK\",  # By default, the function name is used as the tool name.\n",
    "    description=\"A book recommender\",  # A description of the tool.\n",
    ")\n",
    "\n",
    "\n",
    "# Register the calculator function to the two agents.\n",
    "register_function(\n",
    "    send_mail,\n",
    "    caller=assistant,  # The assistant agent can suggest calls to the calculator.\n",
    "    executor=executive_mail,  # The user proxy agent can execute the calculator calls.\n",
    "    name=\"Mail\",  # By default, the function name is used as the tool name.\n",
    "    description=\"Send a confirmation Mail in the end\",  # A description of the tool.\n",
    ")"
   ]
  },
  {
   "cell_type": "code",
   "execution_count": null,
   "id": "0bb0de5b-5e40-42ee-80b8-9565e2eb0fb2",
   "metadata": {},
   "outputs": [],
   "source": []
  },
  {
   "cell_type": "markdown",
   "id": "bf97b098-525f-40ca-8b6a-fedd460338a3",
   "metadata": {},
   "source": [
    "### Create a Task"
   ]
  },
  {
   "cell_type": "code",
   "execution_count": 30,
   "id": "11280686-8894-4824-ab5a-d90fbfa251e8",
   "metadata": {},
   "outputs": [],
   "source": [
    "#create a task\n",
    "\n",
    "chats = [\n",
    "    {'sender':assistant,\n",
    "     'recipient':customer_proxy,\n",
    "     'message':'Hello Could you Please help me out with  your name and roll_number and email_id',\n",
    "     #'summary_method':'last_msg',\n",
    "     'summary_method':'reflection_with_llm',\n",
    "     'max_turns':3,\n",
    "     \n",
    "    },\n",
    "    {'sender':executive_book,\n",
    "     'recipient':assistant,\n",
    "     'message':'Recommend me a book to read',\n",
    "     'max_turns':2,\n",
    "     'summary_method':'reflection_with_llm'\n",
    "    },\n",
    "    {'sender':executive_mail,\n",
    "     'recipient':assistant,\n",
    "     'message':\"send a mail to the student's email id mentioned above .Along with the book name recommended using send mail tool.\",\n",
    "     'max_turns':2\n",
    "    }\n",
    "]\n",
    "\n",
    "    "
   ]
  },
  {
   "cell_type": "code",
   "execution_count": 31,
   "id": "9caaec16-167f-4eed-a6b2-5b6e3645550e",
   "metadata": {},
   "outputs": [
    {
     "name": "stdout",
     "output_type": "stream",
     "text": [
      "\u001b[34m\n",
      "********************************************************************************\u001b[0m\n",
      "\u001b[34mStarting a new chat....\u001b[0m\n",
      "\u001b[34m\n",
      "********************************************************************************\u001b[0m\n",
      "\u001b[33magent1\u001b[0m (to Human_Proxy):\n",
      "\n",
      "Hello Could you Please help me out with  your name and roll_number and email_id\n",
      "\n",
      "--------------------------------------------------------------------------------\n"
     ]
    },
    {
     "name": "stdin",
     "output_type": "stream",
     "text": [
      "Replying as Human_Proxy. Provide feedback to agent1. Press enter to skip and use auto-reply, or type 'exit' to end the conversation:  shubhankar\n"
     ]
    },
    {
     "name": "stdout",
     "output_type": "stream",
     "text": [
      "\u001b[33mHuman_Proxy\u001b[0m (to agent1):\n",
      "\n",
      "shubhankar\n",
      "\n",
      "--------------------------------------------------------------------------------\n",
      "\u001b[31m\n",
      ">>>>>>>> USING AUTO REPLY...\u001b[0m\n",
      "\u001b[33magent1\u001b[0m (to Human_Proxy):\n",
      "\n",
      "\u001b[32m***** Suggested tool call (call_tho3059obljpln9iqitukemc): Mail *****\u001b[0m\n",
      "Arguments: \n",
      "{\"name\":\"shubhankar\",\"recipient\":\"shubhankar@example.com\",\"op\":\"collecting information\"}\n",
      "\u001b[32m*********************************************************************\u001b[0m\n",
      "\n",
      "--------------------------------------------------------------------------------\n"
     ]
    },
    {
     "name": "stdin",
     "output_type": "stream",
     "text": [
      "Replying as Human_Proxy. Provide feedback to agent1. Press enter to skip and use auto-reply, or type 'exit' to end the conversation:  12345\n"
     ]
    },
    {
     "name": "stdout",
     "output_type": "stream",
     "text": [
      "\u001b[33mHuman_Proxy\u001b[0m (to agent1):\n",
      "\n",
      "12345\n",
      "\n",
      "--------------------------------------------------------------------------------\n",
      "\u001b[31m\n",
      ">>>>>>>> USING AUTO REPLY...\u001b[0m\n",
      "\u001b[33magent1\u001b[0m (to Human_Proxy):\n",
      "\n",
      "You've provided your name as \"shubhankar\" and your roll number as \"12345\". Now, could you please provide your email id?\n",
      "\n",
      "--------------------------------------------------------------------------------\n"
     ]
    },
    {
     "name": "stdin",
     "output_type": "stream",
     "text": [
      "Replying as Human_Proxy. Provide feedback to agent1. Press enter to skip and use auto-reply, or type 'exit' to end the conversation:  shubhankarsharma1395@gmail.com\n"
     ]
    },
    {
     "name": "stdout",
     "output_type": "stream",
     "text": [
      "\u001b[33mHuman_Proxy\u001b[0m (to agent1):\n",
      "\n",
      "shubhankarsharma1395@gmail.com\n",
      "\n",
      "--------------------------------------------------------------------------------\n",
      "\u001b[34m\n",
      "********************************************************************************\u001b[0m\n",
      "\u001b[34mStarting a new chat....\u001b[0m\n",
      "\u001b[34m\n",
      "********************************************************************************\u001b[0m\n",
      "\u001b[33mexecutive_book\u001b[0m (to agent1):\n",
      "\n",
      "Recommend me a book to read\n",
      "Context: \n",
      "Name: shubhankar, Roll Number: 12345, Email ID: shubhankarsharma1395@gmail.com\n",
      "\n",
      "--------------------------------------------------------------------------------\n",
      "\u001b[31m\n",
      ">>>>>>>> USING AUTO REPLY...\u001b[0m\n",
      "\u001b[33magent1\u001b[0m (to executive_book):\n",
      "\n",
      "\u001b[32m***** Suggested tool call (call_0ue0us9315omt3ryqi0jl9cg): BOOK *****\u001b[0m\n",
      "Arguments: \n",
      "{}\n",
      "\u001b[32m*********************************************************************\u001b[0m\n",
      "\n",
      "--------------------------------------------------------------------------------\n",
      "\u001b[31m\n",
      ">>>>>>>> USING AUTO REPLY...\u001b[0m\n",
      "\u001b[35m\n",
      ">>>>>>>> EXECUTING FUNCTION BOOK...\n",
      "Call ID: call_0ue0us9315omt3ryqi0jl9cg\n",
      "Input arguments: {}\u001b[0m\n",
      "\u001b[33mexecutive_book\u001b[0m (to agent1):\n",
      "\n",
      "\u001b[32m***** Response from calling tool (call_0ue0us9315omt3ryqi0jl9cg) *****\u001b[0m\n",
      "Homo  Sapiens\n",
      "\u001b[32m**********************************************************************\u001b[0m\n",
      "\n",
      "--------------------------------------------------------------------------------\n",
      "\u001b[31m\n",
      ">>>>>>>> USING AUTO REPLY...\u001b[0m\n",
      "\u001b[33magent1\u001b[0m (to executive_book):\n",
      "\n",
      "\u001b[32m***** Suggested tool call (call_dap3u8dno2wggcnwaafcdwzl): Mail *****\u001b[0m\n",
      "Arguments: \n",
      "{\"name\":\"shubhankar\",\"recipient\":\"shubhankarsharma1395@gmail.com\",\"op\":\"Homo Sapiens book recommendation\"}\n",
      "\u001b[32m*********************************************************************\u001b[0m\n",
      "\n",
      "--------------------------------------------------------------------------------\n",
      "\u001b[34m\n",
      "********************************************************************************\u001b[0m\n",
      "\u001b[34mStarting a new chat....\u001b[0m\n",
      "\u001b[34m\n",
      "********************************************************************************\u001b[0m\n",
      "\u001b[33mexecutive_mail\u001b[0m (to agent1):\n",
      "\n",
      "send a mail to the student's email id mentioned above .Along with the book name recommended using send mail tool.\n",
      "Context: \n",
      "Name: shubhankar, Roll Number: 12345, Email ID: shubhankarsharma1395@gmail.com\n",
      "A book recommendation was made, and a confirmation email was sent to shubhankar at shubhankarsharma1395@gmail.com regarding the book \"Homo Sapiens\".\n",
      "\n",
      "--------------------------------------------------------------------------------\n",
      "\u001b[31m\n",
      ">>>>>>>> USING AUTO REPLY...\u001b[0m\n",
      "\u001b[33magent1\u001b[0m (to executive_mail):\n",
      "\n",
      "\u001b[32m***** Suggested tool call (call_juz9hu2okv8jmfhivgfrzxnl): Mail *****\u001b[0m\n",
      "Arguments: \n",
      "{\"name\":\"shubhankar\",\"recipient\":\"shubhankarsharma1395@gmail.com\",\"op\":\"Homo Sapiens\"}\n",
      "\u001b[32m*********************************************************************\u001b[0m\n",
      "\n",
      "--------------------------------------------------------------------------------\n",
      "\u001b[31m\n",
      ">>>>>>>> USING AUTO REPLY...\u001b[0m\n",
      "\u001b[35m\n",
      ">>>>>>>> EXECUTING FUNCTION Mail...\n",
      "Call ID: call_juz9hu2okv8jmfhivgfrzxnl\n",
      "Input arguments: {'name': 'shubhankar', 'recipient': 'shubhankarsharma1395@gmail.com', 'op': 'Homo Sapiens'}\u001b[0m\n",
      "\u001b[33mexecutive_mail\u001b[0m (to agent1):\n",
      "\n",
      "\u001b[32m***** Response from calling tool (call_juz9hu2okv8jmfhivgfrzxnl) *****\u001b[0m\n",
      "Email successfully sent to shubhankarsharma1395@gmail.com!\n",
      "\u001b[32m**********************************************************************\u001b[0m\n",
      "\n",
      "--------------------------------------------------------------------------------\n",
      "\u001b[31m\n",
      ">>>>>>>> USING AUTO REPLY...\u001b[0m\n",
      "\u001b[33magent1\u001b[0m (to executive_mail):\n",
      "\n",
      "\u001b[32m***** Suggested tool call (call_efvmibgcokfhf8kokc7jcd09): Mail *****\u001b[0m\n",
      "Arguments: \n",
      "{\"name\":\"shubhankar\",\"recipient\":\"shubhankarsharma1395@gmail.com\",\"op\":\"Homo Sapiens\"}\n",
      "\u001b[32m*********************************************************************\u001b[0m\n",
      "\n",
      "--------------------------------------------------------------------------------\n"
     ]
    }
   ],
   "source": [
    "from autogen import initiate_chats\n",
    "\n",
    "chat_results = initiate_chats(chats)"
   ]
  },
  {
   "cell_type": "code",
   "execution_count": null,
   "id": "bf930b38-9309-4d0e-a6cf-75369b003206",
   "metadata": {},
   "outputs": [],
   "source": []
  },
  {
   "cell_type": "code",
   "execution_count": null,
   "id": "4c030e9b-20e4-4b01-895a-6bb248ecb74a",
   "metadata": {},
   "outputs": [],
   "source": []
  },
  {
   "cell_type": "code",
   "execution_count": null,
   "id": "7d1142d7-3295-433c-964f-3ebbf75a6005",
   "metadata": {},
   "outputs": [],
   "source": []
  },
  {
   "cell_type": "code",
   "execution_count": null,
   "id": "8fff112d-b882-44c0-8fac-ef66bbce8acf",
   "metadata": {},
   "outputs": [],
   "source": []
  },
  {
   "cell_type": "code",
   "execution_count": null,
   "id": "16edbd7c-90f1-444a-8478-ab058d977587",
   "metadata": {},
   "outputs": [],
   "source": []
  },
  {
   "cell_type": "code",
   "execution_count": null,
   "id": "0ad4a946-33e2-4e3a-a4b0-b5f8366a1a94",
   "metadata": {},
   "outputs": [],
   "source": []
  },
  {
   "cell_type": "code",
   "execution_count": null,
   "id": "de2e8dde-8b0b-4305-9c5a-b3604b86ea47",
   "metadata": {},
   "outputs": [],
   "source": []
  },
  {
   "cell_type": "code",
   "execution_count": null,
   "id": "7492e62d-f0ad-44ca-ae5b-49bc5be46d3b",
   "metadata": {},
   "outputs": [],
   "source": []
  },
  {
   "cell_type": "code",
   "execution_count": null,
   "id": "38441965-60e4-4c12-a5bd-31d9dccb316b",
   "metadata": {},
   "outputs": [],
   "source": []
  },
  {
   "cell_type": "code",
   "execution_count": null,
   "id": "b091d7f2-ca7a-45ec-a6f6-cb8c9f94ef8b",
   "metadata": {},
   "outputs": [],
   "source": []
  },
  {
   "cell_type": "code",
   "execution_count": null,
   "id": "4a55dcf5-98a1-4992-8e19-852258794b45",
   "metadata": {},
   "outputs": [],
   "source": []
  }
 ],
 "metadata": {
  "kernelspec": {
   "display_name": "Python 3 (ipykernel)",
   "language": "python",
   "name": "python3"
  },
  "language_info": {
   "codemirror_mode": {
    "name": "ipython",
    "version": 3
   },
   "file_extension": ".py",
   "mimetype": "text/x-python",
   "name": "python",
   "nbconvert_exporter": "python",
   "pygments_lexer": "ipython3",
   "version": "3.12.7"
  }
 },
 "nbformat": 4,
 "nbformat_minor": 5
}
