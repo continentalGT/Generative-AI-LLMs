{
 "cells": [
  {
   "cell_type": "code",
   "execution_count": 187,
   "id": "9c5e9408-b9ac-4bc0-a03e-a029a58129fe",
   "metadata": {},
   "outputs": [],
   "source": [
    "from langchain_core.tools import tool\n",
    "import random\n",
    "import requests\n",
    "from langchain_openai import ChatOpenAI\n",
    "import os\n",
    "from langgraph.prebuilt import create_react_agent"
   ]
  },
  {
   "cell_type": "markdown",
   "id": "ddf8986c-e334-432e-b51b-209cd9f20405",
   "metadata": {},
   "source": [
    "### tool"
   ]
  },
  {
   "cell_type": "code",
   "execution_count": 190,
   "id": "415e707b-476d-4b47-a74a-0e8abeafc104",
   "metadata": {},
   "outputs": [
    {
     "data": {
      "text/plain": [
       "'Superbad'"
      ]
     },
     "execution_count": 190,
     "metadata": {},
     "output_type": "execute_result"
    }
   ],
   "source": [
    "@tool\n",
    "def random_movie(genre: str) -> str: #explicit type hint \n",
    "    \"\"\"Returns a random movie name based on the given genre.\"\"\"\n",
    "    url = \"https://api.npoint.io/1b111baad7e6ea24a1f6\"\n",
    "\n",
    "    genre=genre.title()\n",
    "    response = requests.get(url).json()\n",
    "    \n",
    "    if genre not in response:\n",
    "        return f\"No movies found for genre: {genre}\"\n",
    "    \n",
    "    movie = random.choice(response[genre])\n",
    "    return movie\n",
    "random_movie('comedy')"
   ]
  },
  {
   "cell_type": "markdown",
   "id": "d40d2b41-8b4c-4272-a902-f455d04be8fd",
   "metadata": {},
   "source": [
    "### Model"
   ]
  },
  {
   "cell_type": "code",
   "execution_count": 193,
   "id": "87237800-f78e-465d-bde8-4ea935031f9f",
   "metadata": {},
   "outputs": [],
   "source": [
    "\n",
    "\n",
    "from langchain_openai import ChatOpenAI\n",
    "\n",
    "model = ChatOpenAI(\n",
    "    base_url=\"https://api.together.xyz/v1\",\n",
    "    api_key=os.environ[\"TOGETHERAI_API_KEY\"],\n",
    "    model=\"meta-llama/Llama-3.3-70B-Instruct-Turbo-Free\",\n",
    ")"
   ]
  },
  {
   "cell_type": "code",
   "execution_count": 194,
   "id": "8990ba77-0b0e-49d6-81c9-67ae0afe79d9",
   "metadata": {},
   "outputs": [],
   "source": [
    "#bind_tools to give model knowledge about these tools\n",
    "tools = [random_movie]\n",
    "model_with_tools = model.bind_tools(tools)"
   ]
  },
  {
   "cell_type": "code",
   "execution_count": 197,
   "id": "cc01d2c7-2e6e-4cc6-a754-98c3472459e8",
   "metadata": {},
   "outputs": [
    {
     "data": {
      "text/plain": [
       "[StructuredTool(name='random_movie', description='Returns a random movie name based on the given genre.', args_schema=<class 'langchain_core.utils.pydantic.random_movie'>, func=<function random_movie at 0x0000024F65F52B60>)]"
      ]
     },
     "execution_count": 197,
     "metadata": {},
     "output_type": "execute_result"
    }
   ],
   "source": [
    "tools"
   ]
  },
  {
   "cell_type": "code",
   "execution_count": 199,
   "id": "960818d8-b20a-4300-a38d-bade8591f1dd",
   "metadata": {},
   "outputs": [
    {
     "data": {
      "text/plain": [
       "[]"
      ]
     },
     "execution_count": 199,
     "metadata": {},
     "output_type": "execute_result"
    }
   ],
   "source": [
    "model_with_tools.invoke('hi').tool_calls"
   ]
  },
  {
   "cell_type": "code",
   "execution_count": 200,
   "id": "400f4eb3-de28-489c-a5b4-4ea25089f2f4",
   "metadata": {},
   "outputs": [
    {
     "data": {
      "text/plain": [
       "[{'name': 'random_movie',\n",
       "  'args': {'genre': 'Comedy'},\n",
       "  'id': 'call_w0t59xhculsrrvnswe1e1kir',\n",
       "  'type': 'tool_call'}]"
      ]
     },
     "execution_count": 200,
     "metadata": {},
     "output_type": "execute_result"
    }
   ],
   "source": [
    "model_with_tools.invoke('any Comedy movie').tool_calls"
   ]
  },
  {
   "cell_type": "markdown",
   "id": "f6d3e852-eeb9-4188-b74c-cd875fe354e1",
   "metadata": {},
   "source": [
    "### model with tool"
   ]
  },
  {
   "cell_type": "code",
   "execution_count": null,
   "id": "2a7fe182-d160-43b1-b86a-b6823a518873",
   "metadata": {},
   "outputs": [],
   "source": []
  },
  {
   "cell_type": "code",
   "execution_count": 205,
   "id": "11497115-17ba-41e8-a0b6-74fa9a31739b",
   "metadata": {},
   "outputs": [
    {
     "name": "stdout",
     "output_type": "stream",
     "text": [
      "I'm ready to help. What kind of movie are you in the mood for? Are you looking for a Comedy, Action, Drama, Horror, or Scifi movie? Let me know and I'll do my best to recommend one.\n",
      "[]\n"
     ]
    }
   ],
   "source": [
    "prompt = '''Act as a helpful assistant.\n",
    "\n",
    "        - random_movie - only use the tool when user asks for movie recommendation.\n",
    "            \n",
    "        check the genre used by user as Comedy , Action , Drama, Horror,Scifi and recommed the user with the movie\n",
    "\n",
    "        use the tool only when you do not know the answer\n",
    "        \n",
    "\n",
    "\n",
    "'''\n",
    "\n",
    "print(model_with_tools.invoke(prompt).content)\n",
    "print(model_with_tools.invoke(prompt).tool_calls)"
   ]
  },
  {
   "cell_type": "code",
   "execution_count": 206,
   "id": "c7ee5e3e-7889-468a-a82f-e592d2e352c1",
   "metadata": {},
   "outputs": [],
   "source": [
    "\n",
    "agent = create_react_agent(model=model, tools=tools, state_modifier=prompt)"
   ]
  },
  {
   "cell_type": "code",
   "execution_count": 207,
   "id": "920fc64f-3bfe-4724-a7ee-48f676a3c62a",
   "metadata": {},
   "outputs": [
    {
     "name": "stdout",
     "output_type": "stream",
     "text": [
      "================================\u001b[1m Human Message \u001b[0m=================================\n",
      "\n",
      "hi\n",
      "==================================\u001b[1m Ai Message \u001b[0m==================================\n",
      "\n",
      "It's nice to meet you. Is there something I can help you with or would you like to chat? Maybe you're looking for a movie recommendation?\n"
     ]
    }
   ],
   "source": [
    "def print_stream(stream):\n",
    "    for s in stream:\n",
    "        message = s[\"messages\"][-1]\n",
    "\n",
    "        if isinstance(message, tuple):\n",
    "            print(message)\n",
    "        else:\n",
    "            message.pretty_print() \n",
    "\n",
    "inputs = {\"messages\": [(\"user\", \"hi\")]}\n",
    "\n",
    "print_stream(agent.stream(inputs, stream_mode=\"values\"))  # Ensure agent is properly defined\n"
   ]
  },
  {
   "cell_type": "code",
   "execution_count": null,
   "id": "89cb5090-d845-4eca-807b-bba20519928c",
   "metadata": {},
   "outputs": [],
   "source": []
  },
  {
   "cell_type": "code",
   "execution_count": 185,
   "id": "01c23ba7-332c-46b3-b87f-3141333c4ae5",
   "metadata": {},
   "outputs": [
    {
     "name": "stdout",
     "output_type": "stream",
     "text": [
      "================================\u001b[1m Human Message \u001b[0m=================================\n",
      "\n",
      "Comedy movie recommend\n",
      "==================================\u001b[1m Ai Message \u001b[0m==================================\n",
      "Tool Calls:\n",
      "  random_movie (call_nsdt5d31d8qvj4hylknxjdwq)\n",
      " Call ID: call_nsdt5d31d8qvj4hylknxjdwq\n",
      "  Args:\n",
      "    genre: Comedy\n",
      "=================================\u001b[1m Tool Message \u001b[0m=================================\n",
      "Name: random_movie\n",
      "\n",
      "The Grand Budapest Hotel\n",
      "==================================\u001b[1m Ai Message \u001b[0m==================================\n",
      "\n",
      "I hope you enjoy \"The Grand Budapest Hotel\"! If you're looking for more comedy movie recommendations, please let me know!\n"
     ]
    }
   ],
   "source": [
    "def print_stream(stream):\n",
    "    for s in stream:\n",
    "        message = s[\"messages\"][-1]\n",
    "        #print(message)\n",
    "\n",
    "        if isinstance(message, tuple):\n",
    "            print(message)\n",
    "        else:\n",
    "            message.pretty_print() \n",
    "\n",
    "inputs = {\"messages\": [(\"user\", \"Comedy movie recommend\")]}\n",
    "\n",
    "print_stream(agent.stream(inputs, stream_mode=\"values\"))  # Ensure agent is properly defined\n"
   ]
  },
  {
   "cell_type": "code",
   "execution_count": null,
   "id": "ece3389c-b8ed-42cb-950c-9462ef1fb2df",
   "metadata": {},
   "outputs": [],
   "source": []
  },
  {
   "cell_type": "code",
   "execution_count": null,
   "id": "ac18e1a4-646a-4670-9601-b80e08562ac2",
   "metadata": {},
   "outputs": [],
   "source": []
  },
  {
   "cell_type": "code",
   "execution_count": null,
   "id": "1c7ab197-a17c-41f7-8a49-919ce81d5da8",
   "metadata": {},
   "outputs": [],
   "source": []
  },
  {
   "cell_type": "code",
   "execution_count": null,
   "id": "1873b97d-acec-4d46-822e-a083c7cf26b2",
   "metadata": {},
   "outputs": [],
   "source": []
  }
 ],
 "metadata": {
  "kernelspec": {
   "display_name": "Python 3 (ipykernel)",
   "language": "python",
   "name": "python3"
  },
  "language_info": {
   "codemirror_mode": {
    "name": "ipython",
    "version": 3
   },
   "file_extension": ".py",
   "mimetype": "text/x-python",
   "name": "python",
   "nbconvert_exporter": "python",
   "pygments_lexer": "ipython3",
   "version": "3.12.7"
  }
 },
 "nbformat": 4,
 "nbformat_minor": 5
}
