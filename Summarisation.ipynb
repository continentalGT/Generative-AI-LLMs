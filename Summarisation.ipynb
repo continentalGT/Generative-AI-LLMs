{
 "cells": [
  {
   "cell_type": "code",
   "execution_count": 2,
   "id": "d4f19944",
   "metadata": {},
   "outputs": [],
   "source": [
    "from transformers import logging\n",
    "logging.set_verbosity_error()"
   ]
  },
  {
   "cell_type": "code",
   "execution_count": 3,
   "id": "004b15ea",
   "metadata": {},
   "outputs": [],
   "source": [
    "from transformers import pipeline "
   ]
  },
  {
   "cell_type": "code",
   "execution_count": 5,
   "id": "72e0a80c",
   "metadata": {},
   "outputs": [],
   "source": [
    "summarizer = pipeline(task ='summarization',\n",
    "                     model = 'facebook/bart-large-cnn')\n",
    "\n"
   ]
  },
  {
   "cell_type": "code",
   "execution_count": 6,
   "id": "14278cbf",
   "metadata": {},
   "outputs": [],
   "source": [
    "text = f\"\"\"Gemstones are rare occurrences on this earth, with the sparkling stones forming over millions and billions of years. With more than 200 types of gemstones known to man, it is common knowledge that the most precious gemstones in the world are diamonds, rubies, sapphires, and emeralds. However, there are some rarest gemstones in the world that are at least a thousand to million times rare in the world, in terms of their known quantities.\n",
    "\n",
    "Needless to say, their values far exceed even some of the world’s most desired gemstones. There is something quite unique about them all that makes them rare in the world. Here are 5 of the rarest gemstones in the world with their unique features.\n",
    "\n",
    "What are the Rarest Gemstones in the World?\n",
    "\n",
    "5 Of The Rarest Gemstones On Earth \n",
    "Tanzanite : Tanzanite found its day in the market after it was first discovered in the year 1967 in the country of Tanzania, Africa. It was one of the rare gemstones in the world to show an excellent trichroism, which means that it displays three different colours when looked at from different angles. In the case of Tanzanite, the colours are blue, violet, and burgundy. However, the thing that actually makes Tanzanite rare is its extreme scarcity in the world. It is mined from only one mine in the world, which is about 7 km long and 2 km wide, and is expected to be mined out in the next 30 years.\n",
    "\n",
    "Red Beryl : Discovered in the Wah Wah Mountains of Utah, Red Beryl belongs to the same mineral family as emeralds and aquamarines. However, what makes Red Beryl unique is that more than 95% of the mineral found every year is of lower quality. Very few of the high quality are worthy of being used as gems. But these make great collecter’s pieces as they are never faceted. Approximately one out of every 150,000 Red Beryl crystals is gem quality.\n",
    "\n",
    "Black Opal : Opals are known to be creamy-white with an explosion of colours inside them owing to the diffraction of light and play-of-colour. Most opals are white, grey, or green in colour. However, the black variety of the Opals that is only found in Australia is the rarest. The black background in the colours makes it look like the Northern lights. One of the most valuable black opals in the world sold for about $763,000.\n",
    "\n",
    "Alexandrite : Popularly known as “Emerald by day, ruby by night,” Alexandrite is famous for its ability to change colours in different lights. In that, Alexandrite appears blue to green in broad daylight, while it shows a red to purple hue in lower lights. Discovered in the Ural mountains in the year 1830, the gemstone was named after Czar Alexander II. Its rarity can be understood by the fact that its source in Ural mountains was exhausted within a couple of decades of its discovery and is now only found in Brazil and a couple of other mines.\n",
    "\n",
    "5 Of The Rarest Gemstones On Earth \n",
    "Painite : Not just the rarest gemstone, but also the rarest mineral on earth, Painite holds the Guinness World Record for it. After its discovery in the year 1951, there existed only 2 specimens of Painite for the next many decades. By the year 2004, there were less than 2 dozens known gemstones. Even with the recent opening of 2 dedicated mines in Myanmar, there are only less than 1,000 painite gemstones, with most of them not being faceted.\n",
    "\n",
    "In a world where gemstones are a novelty, being this rare is something that surely gives these gems a high pedestal in the world. Uniqueness is the most valued thing in the world of gemstones, and that is why KGK Group takes such pride in being one of the top 10 jewellery manufacturers. If you wish to find the best quality gemstones from around the world for your jewellery, or have a design that you would like to change into jewellery, contact KGK Group to talk to an expert.\"\"\""
   ]
  },
  {
   "cell_type": "code",
   "execution_count": 8,
   "id": "d65ade97",
   "metadata": {},
   "outputs": [
    {
     "name": "stdout",
     "output_type": "stream",
     "text": [
      "[{'summary_text': 'Gemstones are rare occurrences on this earth, with the sparkling stones forming over millions and billions of years. There are some rarest gemstones in the world that are at least a thousand to million times rare in the World, in terms of their known quantities. There is something quite unique about them all that makes them rare inThe world. Here are 5 of the rarest gems with their unique features that make them so rare. KGK Group takes such pride in being one of the top 10 jewellery manufacturers. If you wish to find the best quality gemstones from around the world for your jewellery, or have a design that you would like to change into, contact KG'}]\n"
     ]
    }
   ],
   "source": [
    "print(summarizer(text , min_length=100))"
   ]
  },
  {
   "cell_type": "code",
   "execution_count": null,
   "id": "5d8b7ea0",
   "metadata": {},
   "outputs": [],
   "source": []
  },
  {
   "cell_type": "code",
   "execution_count": null,
   "id": "397f7ebf",
   "metadata": {},
   "outputs": [],
   "source": []
  },
  {
   "cell_type": "code",
   "execution_count": null,
   "id": "a294de03",
   "metadata": {},
   "outputs": [],
   "source": []
  }
 ],
 "metadata": {
  "kernelspec": {
   "display_name": "Python 3 (ipykernel)",
   "language": "python",
   "name": "python3"
  },
  "language_info": {
   "codemirror_mode": {
    "name": "ipython",
    "version": 3
   },
   "file_extension": ".py",
   "mimetype": "text/x-python",
   "name": "python",
   "nbconvert_exporter": "python",
   "pygments_lexer": "ipython3",
   "version": "3.10.12"
  }
 },
 "nbformat": 4,
 "nbformat_minor": 5
}
