{
 "cells": [
  {
   "cell_type": "markdown",
   "id": "e48d3fdd",
   "metadata": {},
   "source": [
    "# 1. Chatbot"
   ]
  },
  {
   "cell_type": "code",
   "execution_count": 13,
   "id": "d5afb85a",
   "metadata": {},
   "outputs": [],
   "source": [
    "from transformers import logging\n",
    "logging.set_verbosity_error()"
   ]
  },
  {
   "cell_type": "code",
   "execution_count": 14,
   "id": "81012e81",
   "metadata": {},
   "outputs": [],
   "source": [
    "\n",
    "from transformers import pipeline , Conversation"
   ]
  },
  {
   "cell_type": "code",
   "execution_count": 15,
   "id": "5c5c3095",
   "metadata": {},
   "outputs": [],
   "source": [
    "chatbot = pipeline(model='facebook/blenderbot-400M-distill', task='conversational')"
   ]
  },
  {
   "cell_type": "code",
   "execution_count": 23,
   "id": "3e4038a8",
   "metadata": {},
   "outputs": [],
   "source": [
    "text = 'suggest some cool places to visit during summers '"
   ]
  },
  {
   "cell_type": "code",
   "execution_count": 24,
   "id": "acebb127",
   "metadata": {},
   "outputs": [],
   "source": [
    "conversation  = Conversation(text)"
   ]
  },
  {
   "cell_type": "code",
   "execution_count": 25,
   "id": "4aedc50d",
   "metadata": {},
   "outputs": [
    {
     "name": "stdout",
     "output_type": "stream",
     "text": [
      "Conversation id: 3df108f8-434c-4e71-a156-0f099d5f8041\n",
      "user: suggest some cool places to visit during summers \n",
      "assistant:  I would love to go to Hawaii, but I don't know if I can afford it.\n",
      "\n"
     ]
    }
   ],
   "source": [
    "print(chatbot(conversation))"
   ]
  },
  {
   "cell_type": "code",
   "execution_count": 26,
   "id": "4a24509d",
   "metadata": {},
   "outputs": [
    {
     "name": "stdout",
     "output_type": "stream",
     "text": [
      "Conversation id: 3df108f8-434c-4e71-a156-0f099d5f8041\n",
      "user: suggest some cool places to visit during summers \n",
      "assistant:  I would love to go to Hawaii, but I don't know if I can afford it.\n",
      "user: anyother places\n",
      "assistant:  I would like to see the Big Island.  It's the largest island in the Pacific Ocean.\n",
      "\n"
     ]
    }
   ],
   "source": [
    "conversation.add_message({'role':\"user\",\n",
    "                         'content':'anyother places'})\n",
    "\n",
    "print(chatbot(conversation))"
   ]
  },
  {
   "cell_type": "code",
   "execution_count": 27,
   "id": "0c2db257",
   "metadata": {},
   "outputs": [
    {
     "name": "stdout",
     "output_type": "stream",
     "text": [
      "Conversation id: 3df108f8-434c-4e71-a156-0f099d5f8041\n",
      "user: suggest some cool places to visit during summers \n",
      "assistant:  I would love to go to Hawaii, but I don't know if I can afford it.\n",
      "user: anyother places\n",
      "assistant:  I would like to see the Big Island.  It's the largest island in the Pacific Ocean.\n",
      "user: where it is?\n",
      "assistant:  It's located on the west coast of the United States.  There are a lot of tourist attractions there.\n",
      "\n"
     ]
    }
   ],
   "source": [
    "conversation.add_message({'role':\"user\",\n",
    "                         'content':'where it is?'})\n",
    "\n",
    "print(chatbot(conversation))"
   ]
  },
  {
   "cell_type": "code",
   "execution_count": 28,
   "id": "bb49f35d",
   "metadata": {},
   "outputs": [
    {
     "name": "stdout",
     "output_type": "stream",
     "text": [
      "Conversation id: 3df108f8-434c-4e71-a156-0f099d5f8041\n",
      "user: suggest some cool places to visit during summers \n",
      "assistant:  I would love to go to Hawaii, but I don't know if I can afford it.\n",
      "user: anyother places\n",
      "assistant:  I would like to see the Big Island.  It's the largest island in the Pacific Ocean.\n",
      "user: where it is?\n",
      "assistant:  It's located on the west coast of the United States.  There are a lot of tourist attractions there.\n",
      "user: suugest some tourist attraction in helsinki?\n",
      "assistant:  I'm not sure about that.  I do know that it's one of the most visited tourist destinations in the world.\n",
      "\n"
     ]
    }
   ],
   "source": [
    "conversation.add_message({'role':\"user\",\n",
    "                         'content':'suugest some tourist attraction in helsinki?'})\n",
    "\n",
    "print(chatbot(conversation))"
   ]
  },
  {
   "cell_type": "markdown",
   "id": "91b6b5b5",
   "metadata": {},
   "source": [
    "The model needs to be hypertuned on dataset on tourism through which it can respond well"
   ]
  }
 ],
 "metadata": {
  "kernelspec": {
   "display_name": "Python 3 (ipykernel)",
   "language": "python",
   "name": "python3"
  },
  "language_info": {
   "codemirror_mode": {
    "name": "ipython",
    "version": 3
   },
   "file_extension": ".py",
   "mimetype": "text/x-python",
   "name": "python",
   "nbconvert_exporter": "python",
   "pygments_lexer": "ipython3",
   "version": "3.10.12"
  }
 },
 "nbformat": 4,
 "nbformat_minor": 5
}
